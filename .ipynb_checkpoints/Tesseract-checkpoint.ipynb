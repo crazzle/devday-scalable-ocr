{
 "cells": [
  {
   "cell_type": "code",
   "execution_count": 8,
   "metadata": {
    "collapsed": true
   },
   "outputs": [],
   "source": [
    "from PIL import Image\n",
    "from PIL import ImageFilter\n",
    "import numpy\n",
    "import cv2\n",
    "import pyocr\n",
    "import pyocr.builders"
   ]
  },
  {
   "cell_type": "markdown",
   "metadata": {},
   "source": [
    "# PyOCR initialisieren"
   ]
  },
  {
   "cell_type": "markdown",
   "metadata": {},
   "source": [
    "Für PyOCR muss Tesseract auf dem System installiert sein."
   ]
  },
  {
   "cell_type": "code",
   "execution_count": 9,
   "metadata": {
    "collapsed": true
   },
   "outputs": [],
   "source": [
    "tools = pyocr.get_available_tools()\n",
    "tool = tools[0]\n",
    "lang = 'deu'"
   ]
  },
  {
   "cell_type": "markdown",
   "metadata": {},
   "source": [
    "# Bild laden"
   ]
  },
  {
   "cell_type": "code",
   "execution_count": 10,
   "metadata": {},
   "outputs": [],
   "source": [
    "im = Image.open(open(\"documents/dokument.tiff\", 'rb')).convert('L')\n",
    "img = numpy.array(im, dtype=numpy.uint8)"
   ]
  },
  {
   "cell_type": "markdown",
   "metadata": {},
   "source": [
    "# Builder initialisieren"
   ]
  },
  {
   "cell_type": "markdown",
   "metadata": {},
   "source": [
    "Der Linebox-Builder gibt das Ergebnis als einzelne Zeilen und Wörter mitsamt Koordinaten zurück."
   ]
  },
  {
   "cell_type": "code",
   "execution_count": 11,
   "metadata": {},
   "outputs": [],
   "source": [
    "builder = pyocr.builders.LineBoxBuilder()\n",
    "builder.tesseract_flags.extend([\"--psm\",\"11\", \n",
    "                                \"--oem\", \"1\", \n",
    "                                \"-c\", \"tessedit_create_hocr=1\"])\n",
    "lines = tool.image_to_string(im, lang=lang, builder=builder)"
   ]
  },
  {
   "cell_type": "code",
   "execution_count": 12,
   "metadata": {},
   "outputs": [
    {
     "name": "stdout",
     "output_type": "stream",
     "text": [
      "Die zentralen Konzepte von Luigi sind\n",
      "Targets, Tasks und Parameter. Targets sind\n",
      "häufig Dateien auf der Festplatte oder im\n",
      "HDFS (Hadoop Distributed Filesystem),\n",
      "es kann sich dabei aber auch um Einträge\n"
     ]
    }
   ],
   "source": [
    "for l in lines[:5]:\n",
    "    print l.content"
   ]
  }
 ],
 "metadata": {
  "kernelspec": {
   "display_name": "Python 2",
   "language": "python",
   "name": "python2"
  },
  "language_info": {
   "codemirror_mode": {
    "name": "ipython",
    "version": 2
   },
   "file_extension": ".py",
   "mimetype": "text/x-python",
   "name": "python",
   "nbconvert_exporter": "python",
   "pygments_lexer": "ipython2",
   "version": "2.7.10"
  }
 },
 "nbformat": 4,
 "nbformat_minor": 2
}
